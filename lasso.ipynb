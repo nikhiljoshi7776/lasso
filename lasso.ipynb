{
 "cells": [
  {
   "cell_type": "markdown",
   "id": "30d2324e",
   "metadata": {},
   "source": [
    "1. Load the scikit-learn version of the diabetes dataset into your Jupyter\n",
    "notebook using the load_diabetes function."
   ]
  },
  {
   "cell_type": "code",
   "execution_count": 275,
   "id": "2d948fbf",
   "metadata": {},
   "outputs": [],
   "source": [
    "from sklearn.datasets import load_diabetes"
   ]
  },
  {
   "cell_type": "markdown",
   "id": "46245dba",
   "metadata": {},
   "source": [
    "2. Split the dataset into the training and test sets. You may use the function\n",
    "train_test_split in scikit-learn. Here and below use your birthday\n",
    "(in the format DDMM omitting leading zeros if any) as random_state."
   ]
  },
  {
   "cell_type": "code",
   "execution_count": 276,
   "id": "7733f6c0",
   "metadata": {},
   "outputs": [
    {
     "name": "stdout",
     "output_type": "stream",
     "text": [
      "(331, 10)\n",
      "(331,)\n",
      "(111, 10)\n",
      "(111,)\n"
     ]
    }
   ],
   "source": [
    "from sklearn.model_selection import train_test_split\n",
    "diabetes=load_diabetes()\n",
    "X_train,X_test,y_train,y_test=train_test_split(diabetes.data,diabetes.target,random_state=1602)\n",
    "print(X_train.shape)\n",
    "print(y_train.shape)\n",
    "print(X_test.shape)\n",
    "print(y_test.shape)"
   ]
  },
  {
   "cell_type": "markdown",
   "id": "50a97304",
   "metadata": {},
   "source": [
    "3. What is the training and test R2\n",
    "for the Lasso model using the default\n",
    "parameters? How many features does this model use? What are the names\n",
    "of those features? Write the answers in your Jupyter notebook. Here and\n",
    "below, you are allowed to use any scikit-learn functions."
   ]
  },
  {
   "cell_type": "code",
   "execution_count": 277,
   "id": "f24cb848",
   "metadata": {},
   "outputs": [
    {
     "data": {
      "text/plain": [
       "0.35262472665395106"
      ]
     },
     "execution_count": 277,
     "metadata": {},
     "output_type": "execute_result"
    }
   ],
   "source": [
    "import numpy as np\n",
    "from sklearn.linear_model import Lasso\n",
    "lasso=Lasso().fit(X_train,y_train)\n",
    "lasso.score(X_train,y_train)"
   ]
  },
  {
   "cell_type": "code",
   "execution_count": 278,
   "id": "5a4eb3ec",
   "metadata": {},
   "outputs": [
    {
     "data": {
      "text/plain": [
       "0.3748681279360563"
      ]
     },
     "execution_count": 278,
     "metadata": {},
     "output_type": "execute_result"
    }
   ],
   "source": [
    "lasso.score(X_test,y_test)"
   ]
  },
  {
   "cell_type": "code",
   "execution_count": 279,
   "id": "cc838def",
   "metadata": {},
   "outputs": [
    {
     "name": "stdout",
     "output_type": "stream",
     "text": [
      "3\n",
      "bmi\n",
      "bp\n",
      "s5\n"
     ]
    }
   ],
   "source": [
    "b=np.sum(lasso.coef_!=0)\n",
    "print(b)\n",
    "lasso.coef_\n",
    "a=diabetes['feature_names']\n",
    "for i in range(len(lasso.coef_)):\n",
    "    if lasso.coef_[i]!=0:\n",
    "        print(a[i])   "
   ]
  },
  {
   "cell_type": "markdown",
   "id": "eeb2b460",
   "metadata": {},
   "source": [
    "4. Now load the original diabetes dataset from the web page given above.\n",
    "Choose the link diabetes data. Download the file\n",
    "Tab-delimited diabetes data (text file)\n",
    "by right-clicking on it. All the remaining tasks should be performed using\n",
    "this file (diabetes.data), which is the original diabetes dataset. The\n",
    "labels are given in the last column of the file diabetes.data."
   ]
  },
  {
   "cell_type": "code",
   "execution_count": 280,
   "id": "22d70fc2",
   "metadata": {},
   "outputs": [
    {
     "data": {
      "text/plain": [
       "array([[ 59.    ,   2.    ,  32.1   , 101.    , 157.    ,  93.2   ,\n",
       "         38.    ,   4.    ,   4.8598,  87.    , 151.    ],\n",
       "       [ 48.    ,   1.    ,  21.6   ,  87.    , 183.    , 103.2   ,\n",
       "         70.    ,   3.    ,   3.8918,  69.    ,  75.    ],\n",
       "       [ 72.    ,   2.    ,  30.5   ,  93.    , 156.    ,  93.6   ,\n",
       "         41.    ,   4.    ,   4.6728,  85.    , 141.    ]])"
      ]
     },
     "execution_count": 280,
     "metadata": {},
     "output_type": "execute_result"
    }
   ],
   "source": [
    "x=np.genfromtxt(\"diabetes.data\",delimiter=\"\\t\",skip_header=True)\n",
    "x[:3]"
   ]
  },
  {
   "cell_type": "markdown",
   "id": "1296fc99",
   "metadata": {},
   "source": [
    "5.Split the dataset into the training and test sets. Use your birthday (in the\n",
    "format DDMM) as random_state."
   ]
  },
  {
   "cell_type": "code",
   "execution_count": 281,
   "id": "1c773f11",
   "metadata": {},
   "outputs": [],
   "source": [
    "X = np.genfromtxt(\"diabetes.data\", delimiter=\"\\t\",usecols=np.arange(0,10),skip_header=True)\n",
    "y = np.genfromtxt(\"diabetes.data\", delimiter=\"\\t\",usecols=10,dtype='int',skip_header=True)\n",
    "X2_train,X2_test,y2_train,y2_test= train_test_split(X,y,random_state=1602)"
   ]
  },
  {
   "cell_type": "markdown",
   "id": "7f4e99e4",
   "metadata": {},
   "source": [
    "6. Repeat item 3 for the current dataset. Comment on the differences from\n",
    "what you saw in item 3."
   ]
  },
  {
   "cell_type": "markdown",
   "id": "a8d08463",
   "metadata": {},
   "source": [
    "#the values for R2 are greater for item 6 than item 3,the diiference is because the features are normalized in item 3."
   ]
  },
  {
   "cell_type": "code",
   "execution_count": 282,
   "id": "727b6bea",
   "metadata": {},
   "outputs": [
    {
     "data": {
      "text/plain": [
       "0.5128089399976142"
      ]
     },
     "execution_count": 282,
     "metadata": {},
     "output_type": "execute_result"
    }
   ],
   "source": [
    "lasso=Lasso().fit(X2_train,y2_train)\n",
    "lasso.score(X2_train,y2_train)"
   ]
  },
  {
   "cell_type": "code",
   "execution_count": 283,
   "id": "a0e771d6",
   "metadata": {},
   "outputs": [
    {
     "data": {
      "text/plain": [
       "0.4991588361751541"
      ]
     },
     "execution_count": 283,
     "metadata": {},
     "output_type": "execute_result"
    }
   ],
   "source": [
    "lasso.score(X2_test,y2_test)"
   ]
  },
  {
   "cell_type": "code",
   "execution_count": 291,
   "id": "6596c1c2",
   "metadata": {},
   "outputs": [
    {
     "name": "stdout",
     "output_type": "stream",
     "text": [
      "9\n",
      "age\n",
      "sex\n",
      "bmi\n",
      "bp\n",
      "s2\n",
      "s3\n",
      "s4\n",
      "s5\n",
      "s6\n"
     ]
    }
   ],
   "source": [
    "b=np.sum(lasso.coef_!=0)\n",
    "print(b)\n",
    "lasso.coef_\n",
    "a=diabetes['feature_names']\n",
    "for i in range(len(lasso.coef_)):\n",
    "    if lasso.coef_[i]!=0:\n",
    "        print(a[i])"
   ]
  },
  {
   "cell_type": "markdown",
   "id": "4a83fb63",
   "metadata": {},
   "source": [
    "7.Preprocess the training and test sets in the same way and avoiding data\n",
    "snooping. Use StandardScaler."
   ]
  },
  {
   "cell_type": "code",
   "execution_count": 284,
   "id": "42fd4ada",
   "metadata": {},
   "outputs": [],
   "source": [
    "from sklearn.preprocessing import StandardScaler\n",
    "scaler=StandardScaler()\n",
    "#calling fit and transform in sequence (using method chaining)\n",
    "X_scaled=scaler.fit(X2_train).transform(X2_train)\n",
    "X_scaled_d=scaler.fit(X2_test).transform(X2_test)"
   ]
  },
  {
   "cell_type": "markdown",
   "id": "1e59ec91",
   "metadata": {},
   "source": [
    "8. Repeat item 3 for the current training and test sets (which you should\n",
    "use in items 8–10). Are your current results closer to those in item 3 or\n",
    "item 6? Notice that a priori you would expect your current results to be\n",
    "closer to those in item 3, since the reason for different results in items 3\n",
    "and 6 was that the former were for normalized data while the latter were\n",
    "for the original data. Is this expectation confirmed? If not, why?"
   ]
  },
  {
   "cell_type": "markdown",
   "id": "cbe247b2",
   "metadata": {},
   "source": [
    "#the results are closer to item 6, this is against our expectations."
   ]
  },
  {
   "cell_type": "code",
   "execution_count": 285,
   "id": "948b1850",
   "metadata": {},
   "outputs": [
    {
     "data": {
      "text/plain": [
       "0.5140987000309347"
      ]
     },
     "execution_count": 285,
     "metadata": {},
     "output_type": "execute_result"
    }
   ],
   "source": [
    "lasso=Lasso().fit(X_scaled,y2_train)\n",
    "lasso.score(X_scaled,y2_train)"
   ]
  },
  {
   "cell_type": "code",
   "execution_count": 286,
   "id": "12fdc31e",
   "metadata": {},
   "outputs": [
    {
     "data": {
      "text/plain": [
       "0.5501187013259494"
      ]
     },
     "execution_count": 286,
     "metadata": {},
     "output_type": "execute_result"
    }
   ],
   "source": [
    "lasso=Lasso().fit(X_scaled_d,y2_test)\n",
    "lasso.score(X_scaled_d,y2_test)"
   ]
  },
  {
   "cell_type": "code",
   "execution_count": 287,
   "id": "697e1e6d",
   "metadata": {},
   "outputs": [
    {
     "name": "stdout",
     "output_type": "stream",
     "text": [
      "9\n",
      "age\n",
      "sex\n",
      "bmi\n",
      "bp\n",
      "s2\n",
      "s3\n",
      "s4\n",
      "s5\n",
      "s6\n"
     ]
    }
   ],
   "source": [
    "b=np.sum(lasso.coef_!=0)\n",
    "print(b)\n",
    "lasso.coef_\n",
    "a=diabetes['feature_names']\n",
    "for i in range(len(lasso.coef_)):\n",
    "    if lasso.coef_[i]!=0:\n",
    "        print(a[i])"
   ]
  },
  {
   "cell_type": "markdown",
   "id": "19718898",
   "metadata": {},
   "source": [
    "9. Varying the regularization parameter α in the Lasso, plot the test R2 vs\n",
    "the number of features used (i.e., those with non-zero coefficients). Try to\n",
    "make your plot as pretty as possible. (Obviously, it’s subjective.) Which\n",
    "point on the curve do you prefer? (There is no unique correct answer to\n",
    "this question.) Give a brief explanation of your preference."
   ]
  },
  {
   "cell_type": "code",
   "execution_count": 288,
   "id": "7a231556",
   "metadata": {},
   "outputs": [
    {
     "data": {
      "text/plain": [
       "0.5528228155931343"
      ]
     },
     "execution_count": 288,
     "metadata": {},
     "output_type": "execute_result"
    }
   ],
   "source": [
    "lasso01=Lasso(alpha=0.1,max_iter=100000).fit(X_scaled_d,y2_test)\n",
    "lasso01.score(X_scaled_d,y2_test)"
   ]
  },
  {
   "cell_type": "code",
   "execution_count": 289,
   "id": "224b6559",
   "metadata": {},
   "outputs": [
    {
     "data": {
      "text/plain": [
       "9"
      ]
     },
     "execution_count": 289,
     "metadata": {},
     "output_type": "execute_result"
    }
   ],
   "source": [
    "np.sum(lasso01.coef_!=0)"
   ]
  },
  {
   "cell_type": "code",
   "execution_count": 290,
   "id": "1ddb1118",
   "metadata": {},
   "outputs": [
    {
     "data": {
      "text/plain": [
       "0.5532865691965181"
      ]
     },
     "execution_count": 290,
     "metadata": {},
     "output_type": "execute_result"
    }
   ],
   "source": [
    "lasso001=Lasso(alpha=0.01,max_iter=100000).fit(X_scaled_d,y2_test)\n",
    "lasso001.score(X_scaled_d,y2_test)"
   ]
  },
  {
   "cell_type": "code",
   "execution_count": 256,
   "id": "55dcee46",
   "metadata": {},
   "outputs": [
    {
     "data": {
      "text/plain": [
       "10"
      ]
     },
     "execution_count": 256,
     "metadata": {},
     "output_type": "execute_result"
    }
   ],
   "source": [
    "np.sum(lasso001.coef_!=0)"
   ]
  },
  {
   "cell_type": "code",
   "execution_count": 257,
   "id": "f880b1e3",
   "metadata": {},
   "outputs": [
    {
     "data": {
      "text/plain": [
       "0.553295953658655"
      ]
     },
     "execution_count": 257,
     "metadata": {},
     "output_type": "execute_result"
    }
   ],
   "source": [
    "lasso0001=Lasso(alpha=0.001,max_iter=100000).fit(X_scaled_d,y2_test)\n",
    "lasso0001.score(X_scaled_d,y2_test)"
   ]
  },
  {
   "cell_type": "code",
   "execution_count": 258,
   "id": "22137bb3",
   "metadata": {},
   "outputs": [
    {
     "data": {
      "text/plain": [
       "10"
      ]
     },
     "execution_count": 258,
     "metadata": {},
     "output_type": "execute_result"
    }
   ],
   "source": [
    "np.sum(lasso0001.coef_!=0)"
   ]
  },
  {
   "cell_type": "code",
   "execution_count": 259,
   "id": "3f8764e3",
   "metadata": {},
   "outputs": [
    {
     "data": {
      "text/plain": [
       "0.5532960475383955"
      ]
     },
     "execution_count": 259,
     "metadata": {},
     "output_type": "execute_result"
    }
   ],
   "source": [
    "lasso00001=Lasso(alpha=0.0001,max_iter=100000).fit(X_scaled_d,y2_test)\n",
    "lasso00001.score(X_scaled_d,y2_test)"
   ]
  },
  {
   "cell_type": "code",
   "execution_count": 260,
   "id": "d06f16dd",
   "metadata": {},
   "outputs": [
    {
     "data": {
      "text/plain": [
       "10"
      ]
     },
     "execution_count": 260,
     "metadata": {},
     "output_type": "execute_result"
    }
   ],
   "source": [
    "np.sum(lasso00001.coef_!=0)"
   ]
  },
  {
   "cell_type": "code",
   "execution_count": 261,
   "id": "df4524b9",
   "metadata": {},
   "outputs": [
    {
     "data": {
      "text/plain": [
       "0.5532960484772728"
      ]
     },
     "execution_count": 261,
     "metadata": {},
     "output_type": "execute_result"
    }
   ],
   "source": [
    "lasso000001=Lasso(alpha=0.00001,max_iter=100000).fit(X_scaled_d,y2_test)\n",
    "lasso000001.score(X_scaled_d,y2_test)"
   ]
  },
  {
   "cell_type": "code",
   "execution_count": 262,
   "id": "f3b699b1",
   "metadata": {},
   "outputs": [
    {
     "data": {
      "text/plain": [
       "10"
      ]
     },
     "execution_count": 262,
     "metadata": {},
     "output_type": "execute_result"
    }
   ],
   "source": [
    "np.sum(lasso000001.coef_!=0)"
   ]
  },
  {
   "cell_type": "code",
   "execution_count": 263,
   "id": "50b02b6a",
   "metadata": {},
   "outputs": [
    {
     "data": {
      "text/plain": [
       "Text(0, 0.5, 'Number of Features Used')"
      ]
     },
     "execution_count": 263,
     "metadata": {},
     "output_type": "execute_result"
    },
    {
     "data": {
      "image/png": "[encoded data removed]",
      "text/plain": [
       "<Figure size 432x288 with 1 Axes>"
      ]
     },
     "metadata": {
      "needs_background": "light"
     },
     "output_type": "display_data"
    }
   ],
   "source": [
    "import matplotlib.pyplot as plt\n",
    "plt.plot(0.5528228155931343,9, '*', label=\"Lasso alpha=0.1\")\n",
    "plt.plot(0.5532865691965181,10, 's', label=\"Lasso alpha=0.01\")\n",
    "plt.plot(0.553295953658655,10, '^', label=\"Lasso alpha=0.001\")\n",
    "plt.plot(0.5532960475383955,10, 'o', label=\"Lasso alpha=0.0001\")\n",
    "plt.plot(0.5532960484772728,10, 'v', label=\"Lasso alpha=0.00001\")\n",
    "plt.xlabel(\"Test R2\")\n",
    "plt.ylabel(\"Number of Features Used\")"
   ]
  },
  {
   "cell_type": "markdown",
   "id": "1c7937c6",
   "metadata": {},
   "source": [
    "10. Choose the regularization parameter for the Lasso using cross-validation\n",
    "on the training set. Train the Lasso on the whole training set using the\n",
    "chosen values of the parameters. Report the resulting training and test\n",
    "R2 and the number of features used. (As before, you are allowed to use\n",
    "any scikit-learn functions.)"
   ]
  },
  {
   "cell_type": "code",
   "execution_count": 267,
   "id": "95289ed9",
   "metadata": {},
   "outputs": [
    {
     "name": "stdout",
     "output_type": "stream",
     "text": [
      "Best score: 0.48752405926537284\n",
      "Best parameters alpha: 0.1\n",
      "Test set score with best parameters: 0.5193745515942896\n"
     ]
    }
   ],
   "source": [
    "from sklearn.model_selection import cross_val_score\n",
    "best_score=0\n",
    "for alpha in [0.1,0.01,0.001,0.0001,0.00001]:\n",
    "    #for each combinations of parameter, train an lasso\n",
    "    lasso=Lasso(alpha=alpha)\n",
    "    #perform cross-validation\n",
    "    scores=cross_val_score(lasso,X_scaled,y2_train,cv=5)\n",
    "    #compute mean cross-validation accuracy\n",
    "    score=np.mean(scores)\n",
    "    #if we got a better score, store the score and parameters\n",
    "    if score>best_score:\n",
    "        best_score=score\n",
    "        best_alpha=alpha\n",
    "#rebuild a model on the full training set\n",
    "lasso=Lasso(alpha=best_alpha)\n",
    "lasso.fit(X_scaled,y2_train)\n",
    "test_score=lasso.score(X_scaled,y2_train)\n",
    "print(\"Best score:\",best_score)\n",
    "print(\"Best parameters alpha:\",best_alpha)\n",
    "print(\"Test set score with best parameters:\",test_score)"
   ]
  },
  {
   "cell_type": "markdown",
   "id": "73ad87b7",
   "metadata": {},
   "source": [
    "11. Implement an inductive conformal predictor as follows:\n",
    ">(a) Split the training set that you obtained in item 5 into two parts:\n",
    "the calibration set of size 99 and the rest of the training set (the\n",
    "training set proper). Use your birthday (in the format DDMM) as\n",
    "random_state.\n"
   ]
  },
  {
   "cell_type": "code",
   "execution_count": null,
   "id": "c4a40f73",
   "metadata": {},
   "outputs": [],
   "source": []
  },
  {
   "cell_type": "markdown",
   "id": "2365fd9c",
   "metadata": {},
   "source": [
    "test_size=99"
   ]
  },
  {
   "cell_type": "code",
   "execution_count": 265,
   "id": "4c04be95",
   "metadata": {},
   "outputs": [],
   "source": [
    "X_training_proper,X_calibration,y_training_proper,y_calibration= train_test_split(X_scaled,y2_train,random_state=1602,test_size=99)"
   ]
  },
  {
   "cell_type": "markdown",
   "id": "7f054d95",
   "metadata": {},
   "source": [
    "(b) Preprocess the training set proper, calibration set, and test set in\n",
    "the same way using StandardScaler. Namely, fit the scaler to the\n",
    "training set proper and then use it to transform all three."
   ]
  },
  {
   "cell_type": "code",
   "execution_count": 266,
   "id": "87a3db2b",
   "metadata": {},
   "outputs": [
    {
     "name": "stdout",
     "output_type": "stream",
     "text": [
      "[[-1.02787781  1.0440738  -0.13797515 ...  1.46314127  1.25025552\n",
      "  -0.77626376]\n",
      " [ 0.92869958 -0.9577867  -0.20361474 ... -1.5728695  -1.74228064\n",
      "  -0.34041383]\n",
      " [-0.01045757 -0.9577867  -1.3851272  ... -0.05486412 -0.47430913\n",
      "  -0.5147538 ]\n",
      " ...\n",
      " [ 0.38085791 -0.9577867   0.4965408  ... -0.7000164  -1.13239714\n",
      "  -0.5147538 ]\n",
      " [ 1.63306744 -0.9577867   0.67157968 ... -0.05486412  1.51595879\n",
      "  -0.42758381]\n",
      " [-1.96703495 -0.9577867   0.54030052 ... -0.81386681 -0.15384553\n",
      "   0.00826612]]\n",
      "[[ 1.53079378  0.98994949 -0.56422195 -0.94646328  0.15946244  1.12767123\n",
      "  -1.31727481  1.57431071 -0.72731155  1.21447689]\n",
      " [ 1.30616643  0.98994949 -0.58867815 -0.89489272 -1.35678208 -1.29109397\n",
      "   0.06924835 -0.89455731 -0.38228444  0.25748316]\n",
      " [ 1.15641487 -1.01015254 -0.02618543 -1.89551558  1.64597667  1.69876856\n",
      "   0.22330648  0.62008565  0.43686992  0.60548088]\n",
      " [ 0.78203595 -1.01015254 -0.17292266  0.64452708 -0.91082781 -1.04249866\n",
      "   1.22468432 -1.65187879 -1.40087745  0.51848145]\n",
      " [-1.53911331 -1.01015254  0.87869417 -0.74095074 -0.25676155 -0.7468718\n",
      "  -0.39292604 -0.13723583  1.29057962 -0.26451342]\n",
      " [-1.38936175 -1.01015254 -0.75987159 -0.74095074  0.0405413   0.50954234\n",
      "  -0.39292604 -0.13723583 -0.44613287 -1.22150715]\n",
      " [ 1.83029691 -1.01015254  0.82978175  0.4905851  -0.52433411 -0.36390064\n",
      "   0.14627742 -0.89455731 -0.44613287 -0.43851228]\n",
      " [ 0.85691174  0.98994949 -0.19737887 -0.74095074 -0.13784041  0.01907051\n",
      "  -0.70104229  0.62008565  0.56316353  0.60548088]\n",
      " [ 0.85691174  0.98994949  1.36781827  0.69609764  0.63514699 -1.02234228\n",
      "  -1.00915855  1.37740713  2.55790087  2.86746607]\n",
      " [ 0.70716017  0.98994949 -0.68650298 -0.89489272 -0.70271582 -0.52515166\n",
      "  -0.08480978 -0.13723583 -0.26125307  0.0834843 ]\n",
      " [ 0.48253282  0.98994949  0.38957006 -0.74095074 -0.13784041  0.9798578\n",
      "  -1.24024574  1.37740713 -1.86851461 -1.22150715]\n",
      " [ 0.93178752  0.98994949  1.83248617  0.4905851   0.96218012  1.36954775\n",
      "  -1.00915855  1.37740713  0.61122526  1.04047803]\n",
      " [-2.21299536  0.98994949 -0.53976574 -0.51003777 -1.86219692 -1.45906378\n",
      "  -0.23886791 -0.89455731 -1.51647118 -1.48250544]\n",
      " [ 1.30616643  0.98994949 -0.68650298  1.28569542  0.01081101 -0.34374427\n",
      "   1.6868587  -1.12175376 -0.75292109  0.17048373]\n",
      " [ 0.40765704 -1.01015254  1.58792412  0.56755609 -0.73244611 -0.3168691\n",
      "  -0.54698416 -0.13723583 -0.38228444 -0.17751399]\n",
      " [-1.1647344   0.98994949 -0.27074749  1.260295    1.22975269  1.55767393\n",
      "  -0.70104229  1.37740713  0.57526667 -0.09051456]\n",
      " [ 0.18302969  0.98994949  0.80532555  1.10635302  1.17029212  1.5845491\n",
      "  -1.31727481  2.89205009  0.86468951  1.04047803]\n",
      " [-1.01498283  0.98994949 -0.56422195  1.33726599  0.12973215  0.31469737\n",
      "  -1.00915855  1.37740713  0.80189353  0.34448259]\n",
      " [-0.64060392 -1.01015254 -0.41748472 -0.89489272 -0.04864956 -0.24968118\n",
      "   0.91656806 -0.89455731 -0.18495068 -1.13450772]\n",
      " [-1.6139891   0.98994949 -0.41748472  0.18270114 -0.40541297 -0.53858924\n",
      "  -1.24024574  0.62008565  1.28251086 -0.35151285]\n",
      " [-1.23961018 -1.01015254 -1.68920739 -1.12580569 -0.52433411 -1.01562349\n",
      "   2.07200403 -1.65187879 -1.19003729 -0.96050886]\n",
      " [ 1.15641487  0.98994949  0.92760658  0.25967213  0.90271955  1.51064238\n",
      "  -0.62401323  0.62008565 -0.22266335 -0.61251114]\n",
      " [ 0.85691174 -1.01015254  0.87869417  1.02938203  0.15946244 -0.52515166\n",
      "   0.30033554 -0.34171263  1.22497711  1.21447689]\n",
      " [ 0.55740861  0.98994949  1.26999345  1.72212094  1.08110126 -0.26983755\n",
      "  -0.62401323  1.37740713  2.2972449   1.91047234]\n",
      " [ 1.90517269 -1.01015254  1.17216863  1.7736915   1.2000224   0.77829403\n",
      "  -1.47133294  2.81631794  1.88538742  1.30147632]\n",
      " [ 0.18302969 -1.01015254  0.34065765 -0.74095074  0.90271955  0.68423094\n",
      "   0.06924835 -0.13723583  0.85434045 -1.39550601]\n",
      " [ 0.10815391  0.98994949  0.68304452  0.95241104 -0.04864956  0.78501282\n",
      "  -1.24024574  1.37740713 -0.46788344  0.34448259]\n",
      " [ 0.93178752  0.98994949  0.07163939  1.56817896 -0.1675707   0.28110341\n",
      "  -1.00915855  0.62008565  0.24339514  0.77947974]\n",
      " [ 0.03327813 -1.01015254 -0.83324021  0.4905851   0.10000187  0.32813495\n",
      "   0.30033554 -0.13723583 -0.62838156 -0.96050886]\n",
      " [ 0.78203595  0.98994949 -0.88215262  1.18332401  1.67570696  2.49158605\n",
      "  -0.70104229  1.37740713 -0.44613287 -0.26451342]\n",
      " [-0.64060392  0.98994949 -1.2734519   0.56755609 -0.13784041 -0.51171407\n",
      "   1.22468432 -0.89455731 -0.11180563 -1.04750829]\n",
      " [-0.79035548  0.98994949 -0.02618543  1.56817896  0.87298927  1.43001688\n",
      "  -1.24024574  2.13472861  0.50124458  1.56247462]\n",
      " [-1.01498283 -1.01015254  0.87869417  0.02875916  0.36757443  0.32141616\n",
      "  -0.4699551   0.46104814  0.84399139 -0.52551171]\n",
      " [-0.04159766  0.98994949 -0.12401025 -0.2791248  -0.31622212 -0.30343152\n",
      "   0.30033554 -0.89455731 -0.12987263 -1.39550601]\n",
      " [ 0.63228439  0.98994949 -0.05064164 -0.2791248   0.84325898  0.2878222\n",
      "   1.76388777 -0.89455731  0.07465285 -2.00450202]\n",
      " [ 0.10815391 -1.01015254 -0.56422195 -0.58700876  2.15139151  2.0145518\n",
      "   1.60982964 -0.13723583 -0.42455771  0.17048373]\n",
      " [-0.64060392  0.98994949 -0.53976574 -0.35609579  0.30811386  0.26766582\n",
      "   0.68548087 -0.13723583 -0.22266335 -0.43851228]\n",
      " [ 0.78203595  0.98994949  1.39227448 -0.89489272 -0.28649183  0.12657119\n",
      "  -0.4699551  -0.13723583 -0.30071982  0.25748316]\n",
      " [ 0.70716017  0.98994949  0.36511385  0.4905851   0.87298927  0.95970142\n",
      "  -0.77807136  1.37740713  0.94485087  0.34448259]\n",
      " [ 0.03327813 -1.01015254 -1.32236431 -0.51003777 -1.44597294 -1.47250136\n",
      "  -1.00915855 -0.13723583  0.8125934  -1.74350373]\n",
      " [ 1.60566956  0.98994949 -0.58867815 -0.81792173 -1.50543351 -1.00218591\n",
      "  -0.70104229 -0.13723583 -0.80519261 -0.09051456]\n",
      " [-1.83861644  0.98994949 -0.51530954  0.02875916 -0.79190667 -0.5721832\n",
      "   0.45439367 -0.89455731 -1.40087745 -0.35151285]\n",
      " [ 0.25790547 -1.01015254  0.38957006 -0.51003777  1.31894354  0.94626384\n",
      "   0.76250993 -0.13723583  0.70366517 -0.00351513]\n",
      " [ 1.30616643  0.98994949 -0.71095918  0.10573015  0.54595614  0.75813765\n",
      "  -0.4699551   0.62008565  0.43686992  1.73647348]\n",
      " [-0.04159766 -1.01015254 -0.19737887 -1.43368964 -0.82163696 -0.53187045\n",
      "   0.22330648 -0.89455731 -1.25756929 -1.13450772]\n",
      " [ 0.93178752  0.98994949  2.78627818  1.87606291 -2.24869063 -2.17125575\n",
      "  -1.31727481 -0.13723583  0.69226366 -0.61251114]\n",
      " [-0.79035548 -1.01015254 -1.34682052  0.02875916 -1.14867009 -1.68078392\n",
      "   1.53280058 -1.65187879 -0.42455771  0.34448259]\n",
      " [ 0.10815391 -1.01015254  1.24553725 -0.12518282  1.25948297  0.95298263\n",
      "   0.06924835  0.3928892   1.05869052  2.25847006]\n",
      " [-0.79035548  0.98994949 -1.2734519  -0.35609579 -0.19730098 -0.17577446\n",
      "   0.91656806 -0.89455731 -1.03199488  0.60548088]\n",
      " [ 0.03327813 -1.01015254 -0.07509784  1.10635302  1.61624639  1.51064238\n",
      "   1.07062619 -0.13723583 -0.04164252 -0.17751399]\n",
      " [ 0.78203595 -1.01015254 -1.02888985  0.77306863  0.96218012 -0.34374427\n",
      "   0.91656806 -0.37957871  1.71699595  0.17048373]\n",
      " [-0.26622501  0.98994949 -0.71095918 -0.58700876 -0.22703127 -0.02796103\n",
      "  -0.31589697 -0.13723583  0.10657706  0.60548088]\n",
      " [ 0.70716017  0.98994949 -0.41748472  1.49120797 -1.08920952 -0.36390064\n",
      "  -1.47133294  0.62008565 -0.2417828  -0.26451342]\n",
      " [-0.11647344 -1.01015254 -0.61313436  1.10635302  1.28921326 -0.35046306\n",
      "  -0.85510042  1.37740713  2.55790087  0.43148202]\n",
      " [ 1.30616643 -1.01015254  0.82978175 -1.12580569 -0.49460383 -0.7468718\n",
      "   1.14765525 -0.89455731 -0.51226161 -0.78651   ]\n",
      " [ 0.63228439 -1.01015254  0.41402626  1.260295    0.27838358 -1.1768745\n",
      "  -1.31727481  1.37740713  2.49019347  0.17048373]\n",
      " [-1.23961018 -1.01015254 -0.27074749 -0.74095074 -1.00001867 -1.02906107\n",
      "   0.22330648 -0.89455731 -0.16635745 -1.83050316]\n",
      " [ 0.48253282 -1.01015254  1.12325622 -1.2281771  -0.04864956  0.86563833\n",
      "  -1.08618762  0.99874639 -1.03199488 -0.09051456]\n",
      " [ 0.03327813  0.98994949 -0.66204677 -0.20215381 -0.67298554 -0.62593354\n",
      "   0.30033554 -0.89455731 -0.36141091  0.17048373]\n",
      " [-1.53911331 -1.01015254  2.10150443  0.28507256  0.45676528  0.90595108\n",
      "   0.14627742 -0.07665011 -1.06234042 -0.00351513]\n",
      " [ 1.68054535  0.98994949  1.00097519 -0.12518282 -0.97028838 -0.74015301\n",
      "  -0.54698416 -0.13723583  0.0422024  -0.52551171]\n",
      " [-1.23961018 -1.01015254  2.10150443 -0.43306678  0.33784414  0.49610476\n",
      "  -0.4699551   0.43832849  0.48861522  0.86647917]\n",
      " [ 0.48253282 -1.01015254  0.14500801  0.79846906  1.73516753  1.51064238\n",
      "   0.45439367  0.62008565  0.7697939   0.25748316]\n",
      " [ 0.78203595 -1.01015254 -0.19737887 -0.58700876  0.54595614  0.34157254\n",
      "   1.60982964 -0.89455731 -0.94341395 -0.61251114]\n",
      " [-1.1647344   0.98994949  0.87869417 -0.89489272 -0.10811013 -0.28327514\n",
      "   0.37736461 -0.89455731  0.30092889  0.0834843 ]\n",
      " [ 0.25790547  0.98994949  0.21837662 -0.97186371 -2.07030892 -2.03687991\n",
      "  -0.70104229 -0.89455731  0.31496151  0.17048373]\n",
      " [-0.94010705  0.98994949 -1.22453949 -0.89489272 -1.80273636 -1.54640807\n",
      "   0.06924835 -0.89455731 -1.40087745 -0.61251114]\n",
      " [-1.1647344   0.98994949 -0.41748472  1.79909192  1.94327952  2.30345986\n",
      "  -0.70104229  2.13472861  0.68103756 -0.87350943]\n",
      " [ 0.48253282 -1.01015254  2.10150443 -1.17737625  0.18919272  0.84548195\n",
      "  -0.4699551   0.34744992 -0.94341395  0.43148202]\n",
      " [-0.56572814  0.98994949  1.0254314   0.4905851   2.38923379  1.90033233\n",
      "   0.14627742  0.62008565  1.41476833  1.30147632]\n",
      " [ 0.78203595  0.98994949 -0.51530954  0.64452708 -1.41624265 -0.97531074\n",
      "  -1.16321668 -0.13723583  0.0422024  -1.13450772]\n",
      " [-0.19134922 -1.01015254  0.97651899  1.9530339   0.30811386  0.14672756\n",
      "  -0.16183884 -0.13723583  0.80189353 -0.35151285]\n",
      " [-0.64060392  0.98994949 -0.17292266 -0.89489272 -0.22703127 -0.30343152\n",
      "   1.37874245 -0.89455731 -1.5980358  -0.52551171]\n",
      " [-0.26622501 -1.01015254 -1.29790811 -1.12580569  0.48649557  0.96642021\n",
      "  -0.4699551   0.62008565 -0.20371931 -0.35151285]\n",
      " [ 0.55740861  0.98994949  1.34336207  1.260295   -0.46487354  0.01907051\n",
      "  -0.54698416 -0.13723583 -0.48998482 -0.35151285]\n",
      " [ 0.10815391 -1.01015254 -0.29520369  0.64452708 -0.37568269 -0.11530533\n",
      "  -0.85510042  0.62008565  0.43686992 -0.09051456]\n",
      " [-2.06324379 -1.01015254 -1.90931324  0.18270114 -2.21896034 -1.94953561\n",
      "  -0.16183884 -1.65187879 -1.22354018 -0.69951057]\n",
      " [ 1.0066633  -1.01015254 -0.09955405 -0.68938017 -1.00001867 -1.25750001\n",
      "  -0.16183884 -0.61434836  0.68103756  0.51848145]\n",
      " [ 0.85691174  0.98994949  1.53901171  0.18270114 -0.3459524   0.09297723\n",
      "  -1.47133294  1.37740713  0.61122526 -0.35151285]\n",
      " [-2.06324379 -1.01015254 -0.83324021 -1.66460261 -0.82163696 -0.59905837\n",
      "   0.45439367 -0.89455731 -1.43859013 -0.00351513]\n",
      " [-0.41597657 -1.01015254 -1.20008329 -0.74095074 -0.9405581  -0.78718455\n",
      "   0.53142274 -0.89455731 -1.3277324  -0.61251114]\n",
      " [-1.01498283 -1.01015254 -1.10225847 -0.43306678  0.01081101 -0.35046306\n",
      "   1.53280058 -0.89455731 -0.48998482  0.43148202]\n",
      " [-1.53911331  0.98994949 -1.7136636  -0.89489272 -1.08920952 -0.33030668\n",
      "  -0.70104229 -0.13723583 -1.86851461 -0.69951057]\n",
      " [-0.64060392  0.98994949 -0.36857231 -0.66397975  0.10000187 -0.02124224\n",
      "   0.99359712 -0.89455731 -0.46788344  0.25748316]\n",
      " [ 0.25790547  0.98994949 -1.05334606  0.25967213 -0.70271582 -0.35046306\n",
      "  -0.08480978 -0.13723583 -0.85921821 -0.87350943]\n",
      " [ 0.10815391  0.98994949 -0.05064164  0.4905851  -0.82163696 -0.53858924\n",
      "  -0.00778071 -0.89455731 -0.77888144 -0.26451342]\n",
      " [ 1.30616643  0.98994949  0.46293867 -0.12518282  0.45676528  0.55657389\n",
      "   0.06924835 -0.13723583  0.15341094  0.0834843 ]\n",
      " [-1.1647344  -1.01015254  1.22108104 -0.58700876 -1.17840038 -0.73343422\n",
      "  -0.16183884 -0.89455731 -1.43859013 -1.22150715]\n",
      " [-0.86523127 -1.01015254 -1.2489957  -1.7415736  -0.70271582 -1.86219131\n",
      "   3.07338186 -1.65187879 -0.38228444 -0.09051456]\n",
      " [-0.26622501 -1.01015254  0.85423796 -0.89489272 -0.52433411 -0.08843016\n",
      "  -0.77807136  0.24142491 -0.11180563  0.60548088]\n",
      " [ 0.78203595 -1.01015254 -0.73541539 -1.38211908  1.73516753  1.08735847\n",
      "   1.30171338 -0.28870013  0.85434045 -1.22150715]\n",
      " [-0.94010705  0.98994949 -0.68650298 -0.04821183  0.48649557  0.77829403\n",
      "   0.37736461 -0.13723583 -0.80519261  1.38847576]\n",
      " [ 1.38104222 -1.01015254  1.56346791  0.85003962  0.48649557  0.0257893\n",
      "  -0.62401323  0.71853744  1.48107247  2.25847006]\n",
      " [ 0.10815391 -1.01015254 -0.73541539 -0.58700876  0.93244984 -0.2295248\n",
      "   3.45852719 -1.65187879 -0.2417828  -0.78651   ]\n",
      " [-0.94010705 -1.01015254 -0.75987159 -0.51003777  1.02164069  0.88579471\n",
      "   1.30171338 -0.59162872 -0.51226161 -0.78651   ]\n",
      " [ 1.15641487 -1.01015254 -0.49085333  1.9530339   0.99191041  0.67079336\n",
      "  -0.85510042  1.37740713  1.50966394  2.86746607]\n",
      " [-0.64060392  0.98994949  1.36781827  2.41485984  0.27838358 -0.38405702\n",
      "   0.06924835 -0.13723583  1.33811513  2.86746607]\n",
      " [ 0.03327813 -1.01015254 -1.10225847 -0.2791248   0.0405413  -0.14889929\n",
      "   1.45577151 -0.89455731 -1.00200015 -1.22150715]\n",
      " [-2.13811957 -1.01015254 -1.54247016 -2.43431251 -1.59462436 -1.56656445\n",
      "   0.45439367 -0.89455731 -0.97253164 -0.17751399]]\n"
     ]
    }
   ],
   "source": [
    "scaler=StandardScaler()\n",
    "#calling fit and transform in sequence (using method chaining)\n",
    "X_scaled_1=scaler.fit(X_training_proper).transform(X_training_proper)\n",
    "X_scaled_d1=scaler.fit(X_calibration).transform(X_calibration)\n",
    "print(X_scaled_1)\n",
    "print(X_scaled_d1)"
   ]
  },
  {
   "cell_type": "markdown",
   "id": "25e32693",
   "metadata": {},
   "source": [
    "(c) Using the nonconformity measure α = |y − yˆ|, where y is the true\n",
    "label and ˆy is its prediction given the training set proper, for each test\n",
    "sample compute the prediction interval for it. Do this for significance\n",
    "levels 5% and 20%. For each of these significance levels compute:\n",
    " the length of the prediction intervals for the test samples\n",
    " and the test error rate of your inductive conformal predictor1\n",
    ".\n",
    "For computing the predictions ˆy, use the Lasso with parameters chosen by cross-validation on the training set proper"
   ]
  },
  {
   "cell_type": "code",
   "execution_count": null,
   "id": "998e93b2",
   "metadata": {},
   "outputs": [],
   "source": []
  }
 ],
 "metadata": {
  "kernelspec": {
   "display_name": "Python 3",
   "language": "python",
   "name": "python3"
  },
  "language_info": {
   "codemirror_mode": {
    "name": "ipython",
    "version": 3
   },
   "file_extension": ".py",
   "mimetype": "text/x-python",
   "name": "python",
   "nbconvert_exporter": "python",
   "pygments_lexer": "ipython3",
   "version": "3.8.8"
  }
 },
 "nbformat": 4,
 "nbformat_minor": 5
}
